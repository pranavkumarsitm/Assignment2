{
 "cells": [
  {
   "cell_type": "raw",
   "id": "101bab0c-1b18-4b77-92c4-eff0d8611aa6",
   "metadata": {},
   "source": [
    "Q1. How do you comment code in python? What are the different types of comments?"
   ]
  },
  {
   "cell_type": "raw",
   "id": "e8bc8194-fc2b-4ee5-9f4b-e42d83e9000e",
   "metadata": {},
   "source": [
    "Answer:- Through \"##/#\" and \"\"\" \"\"\"/ ''' '''."
   ]
  },
  {
   "cell_type": "code",
   "execution_count": null,
   "id": "8263d3e5-e6fe-48bd-8d67-b328878fa1ab",
   "metadata": {},
   "outputs": [],
   "source": []
  },
  {
   "cell_type": "raw",
   "id": "b9092d06-076a-4aaa-af48-4f5c1bac2f92",
   "metadata": {},
   "source": [
    "Q2. What are variables in python? How do you declare and assign values to variables?"
   ]
  },
  {
   "cell_type": "raw",
   "id": "b0b3d282-2ce9-4d8e-9345-842c07491c3d",
   "metadata": {},
   "source": [
    "Answer:- Variables in python are:-\n",
    "1. String\n",
    "Assignement:- \" \"/' '. eg. \"Kumar\"\n",
    "2. Integer\n",
    "Assignementeg:- int 45\n",
    "3. Float\n",
    "Assignement:- float 45.67\n",
    "4. Boolean\n",
    "Assignement:- True / False\n",
    "5. Complex\n",
    "Assignement:- 45+54j/ 34+65J"
   ]
  },
  {
   "cell_type": "code",
   "execution_count": null,
   "id": "856d9f14-e0d3-477f-83af-292f0e084b8a",
   "metadata": {},
   "outputs": [],
   "source": []
  },
  {
   "cell_type": "raw",
   "id": "24b4441b-3e08-450d-a7af-31712d35e710",
   "metadata": {},
   "source": [
    "Q3. How do you convert one data type to another in python?"
   ]
  },
  {
   "cell_type": "raw",
   "id": "15695096-aaa2-4b3d-aad9-13e989c3db35",
   "metadata": {},
   "source": [
    "Answer:- Throgh type casting.\n",
    "e.g:- a = input(\"Enter your value\")- output of value of \"a\" will be in string. so if we want to change in int. we have do type casting like.\n",
    "a int(input(\"Enter your value\"))"
   ]
  },
  {
   "cell_type": "code",
   "execution_count": null,
   "id": "9fd2b985-80bb-40b8-9949-76e74dec4681",
   "metadata": {},
   "outputs": [],
   "source": []
  },
  {
   "cell_type": "raw",
   "id": "0594b41b-eea0-43b5-bef0-5d3d2993d705",
   "metadata": {},
   "source": [
    "Q4.How do you write and execute a python script from the command line?"
   ]
  },
  {
   "cell_type": "raw",
   "id": "0f97ee14-820c-4b9f-89f6-19cdc560b56b",
   "metadata": {},
   "source": [
    "Answer:- We write python script in one of the editor like VS code, Jupyter and then we just install and we run the code."
   ]
  },
  {
   "cell_type": "code",
   "execution_count": null,
   "id": "18046ce8-0517-449d-9dbb-17fbf4d8910b",
   "metadata": {},
   "outputs": [],
   "source": []
  },
  {
   "cell_type": "raw",
   "id": "a0c02c9b-1f9d-454d-a060-22592ec4d8ee",
   "metadata": {},
   "source": [
    "Q5. Given a list my_list = [1, 2,3, 4, 5], write the code to slice the list and obtain the sub-list [2, 3]."
   ]
  },
  {
   "cell_type": "code",
   "execution_count": 6,
   "id": "63272437-152f-4576-bb72-1badd6b55c2b",
   "metadata": {},
   "outputs": [
    {
     "data": {
      "text/plain": [
       "[2, 3]"
      ]
     },
     "execution_count": 6,
     "metadata": {},
     "output_type": "execute_result"
    }
   ],
   "source": [
    "Ans:- my_list = [1,2,3,4,5]\n",
    "my_list[1:3]"
   ]
  },
  {
   "cell_type": "code",
   "execution_count": null,
   "id": "410b0074-dd79-4aa9-aeb2-8e90837ac228",
   "metadata": {},
   "outputs": [],
   "source": []
  },
  {
   "cell_type": "raw",
   "id": "23931e36-2878-4b64-bd1c-da20ffa70ad5",
   "metadata": {},
   "source": [
    "Q6. What is a complex number in mathematics, and how is it represented in python?"
   ]
  },
  {
   "cell_type": "raw",
   "id": "66203f6d-bfd4-4dba-b45d-345b2bd5f83a",
   "metadata": {},
   "source": [
    "Ans:- In mathematics complex number is in the form a+ib, where a and b is real number and i is imaginary number. and in python we respresent complex nmber in the form of a+jb like. 5+6j. where a and b are real number and j is immaginary number."
   ]
  },
  {
   "cell_type": "code",
   "execution_count": null,
   "id": "7da01150-4396-415d-b70a-ecc6de7ce79e",
   "metadata": {},
   "outputs": [],
   "source": []
  },
  {
   "cell_type": "raw",
   "id": "edd27cae-b933-4ded-b642-109a281e7a6f",
   "metadata": {},
   "source": [
    "Q7. What is the correct way to declare a variable named age and assign the value 25 to it?"
   ]
  },
  {
   "cell_type": "code",
   "execution_count": 1,
   "id": "638c9585-e55c-4fc4-babd-17a0b1610407",
   "metadata": {},
   "outputs": [],
   "source": [
    "Ans:- age = 25"
   ]
  },
  {
   "cell_type": "code",
   "execution_count": null,
   "id": "ac6c9142-97ee-423f-8503-398ba1872249",
   "metadata": {},
   "outputs": [],
   "source": []
  },
  {
   "cell_type": "raw",
   "id": "a070a4ed-93db-490c-b682-9dbf124469c6",
   "metadata": {},
   "source": [
    "Q8. Declare a variable named price and assign the value 9.99 to it. What data types this variable belong to?"
   ]
  },
  {
   "cell_type": "code",
   "execution_count": 2,
   "id": "0e82aaff-38e7-41c0-8340-69d9ace08761",
   "metadata": {},
   "outputs": [
    {
     "data": {
      "text/plain": [
       "float"
      ]
     },
     "execution_count": 2,
     "metadata": {},
     "output_type": "execute_result"
    }
   ],
   "source": [
    "Ans:- price = 9.99\n",
    "type(price)"
   ]
  },
  {
   "cell_type": "code",
   "execution_count": null,
   "id": "aa87f275-cc9a-48a5-9794-bd83b35fc980",
   "metadata": {},
   "outputs": [],
   "source": []
  },
  {
   "cell_type": "raw",
   "id": "61a2191b-1b0a-46ce-919c-7aa9e7234f44",
   "metadata": {},
   "source": [
    "Q9.Create a variable named name and assign your full name to it as a string. How would you print the value of this variable?"
   ]
  },
  {
   "cell_type": "code",
   "execution_count": 4,
   "id": "9887b5fd-4813-4d3d-bcd0-305f6a058989",
   "metadata": {},
   "outputs": [
    {
     "name": "stdout",
     "output_type": "stream",
     "text": [
      "Pranav Kumar\n"
     ]
    }
   ],
   "source": [
    "Ans:- name =  \"Pranav Kumar\"\n",
    "print(name)"
   ]
  },
  {
   "cell_type": "code",
   "execution_count": null,
   "id": "eb2bce8d-780d-4984-bac5-d4942d994f46",
   "metadata": {},
   "outputs": [],
   "source": []
  },
  {
   "cell_type": "raw",
   "id": "645211dc-35c8-4f1c-bb57-f953287d8c85",
   "metadata": {},
   "source": [
    "Q10. Given the string \"Hello, World\", extract the substring \"world\"."
   ]
  },
  {
   "cell_type": "code",
   "execution_count": 8,
   "id": "3fbe7a7e-2aec-40c2-badc-7ebbceafe227",
   "metadata": {},
   "outputs": [
    {
     "data": {
      "text/plain": [
       "'World'"
      ]
     },
     "execution_count": 8,
     "metadata": {},
     "output_type": "execute_result"
    }
   ],
   "source": [
    "Ans:- z = \"Hello, World\"\n",
    "z[7:]\n"
   ]
  },
  {
   "cell_type": "code",
   "execution_count": null,
   "id": "a190ad39-bc48-461d-8e6c-61ded35dd2fc",
   "metadata": {},
   "outputs": [],
   "source": []
  },
  {
   "cell_type": "raw",
   "id": "2e8e34fb-a413-44f9-9baf-ce1826e76f4e",
   "metadata": {},
   "source": [
    "Q11. Create a variable named \"is_student\" and assign it and a boolean value indicating whether you are currently a student or not."
   ]
  },
  {
   "cell_type": "code",
   "execution_count": 15,
   "id": "e99d4284-e0d9-4a52-9c7f-7b5519ce5cab",
   "metadata": {},
   "outputs": [
    {
     "name": "stdin",
     "output_type": "stream",
     "text": [
      "Enter the boolean value 0\n"
     ]
    },
    {
     "name": "stdout",
     "output_type": "stream",
     "text": [
      "I am not a student\n"
     ]
    }
   ],
   "source": [
    "Ans:- is_student = int(input(\"Enter the boolean value\"))\n",
    "if is_student == 1:\n",
    "    print(\"I am a stuent\")\n",
    "else:\n",
    "    print(\"I am not a student\")\n"
   ]
  },
  {
   "cell_type": "code",
   "execution_count": null,
   "id": "aa2a1506-91a5-4548-bea6-4c4694a436f6",
   "metadata": {},
   "outputs": [],
   "source": []
  }
 ],
 "metadata": {
  "kernelspec": {
   "display_name": "Python 3 (ipykernel)",
   "language": "python",
   "name": "python3"
  },
  "language_info": {
   "codemirror_mode": {
    "name": "ipython",
    "version": 3
   },
   "file_extension": ".py",
   "mimetype": "text/x-python",
   "name": "python",
   "nbconvert_exporter": "python",
   "pygments_lexer": "ipython3",
   "version": "3.10.8"
  }
 },
 "nbformat": 4,
 "nbformat_minor": 5
}
